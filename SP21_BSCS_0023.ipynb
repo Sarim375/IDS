{
  "nbformat": 4,
  "nbformat_minor": 0,
  "metadata": {
    "colab": {
      "provenance": []
    },
    "kernelspec": {
      "name": "python3",
      "display_name": "Python 3"
    },
    "language_info": {
      "name": "python"
    }
  },
  "cells": [
    {
      "cell_type": "markdown",
      "source": [
        "# Notebook 1\n"
      ],
      "metadata": {
        "id": "Po1Vhy0hu5eZ"
      }
    },
    {
      "cell_type": "markdown",
      "source": [
        "## Introduction"
      ],
      "metadata": {
        "id": "C778tmhhv0P_"
      }
    },
    {
      "cell_type": "markdown",
      "source": [
        "# List of Data Science Languages\n",
        "- Python  \n",
        "- SQL\n",
        "- R  \n",
        "- Julia  \n",
        "- Scala"
      ],
      "metadata": {
        "id": "0klwQiAhv0qe"
      }
    },
    {
      "cell_type": "markdown",
      "source": [
        "## List of Data Science Libraries\n",
        "- NumPy  \n",
        "- Pandas  \n",
        "- Matplotlib  \n",
        "- Scikit-learn  \n",
        "- TensorFlow  \n",
        "- Keras\n"
      ],
      "metadata": {
        "id": "W4IP4mSjwC71"
      }
    },
    {
      "cell_type": "markdown",
      "source": [
        "## Table of Data Science Tools\n",
        "\n",
        "| Tool           | Purpose               |\n",
        "|----------------|-----------------------|\n",
        "| TensorFlow     | Deep learning         |\n",
        "| Apache Spark   | Big data processing   |\n",
        "| Jupyter        | Interactive notebooks |\n",
        "| RStudio        | R programming         |\n",
        "| VS Code        | Code editor           |\n",
        "\n"
      ],
      "metadata": {
        "id": "aFuJB9oMwMfa"
      }
    },
    {
      "cell_type": "markdown",
      "source": [
        "## Examples of Arithmetic Expressions\n"
      ],
      "metadata": {
        "id": "ytGiLyftwPPo"
      }
    },
    {
      "cell_type": "code",
      "source": [
        "# Multiplication and addition examples\n",
        "\n",
        "result1 = 6 * 4\n",
        "print(result1)\n",
        "\n",
        "result2 = 4 + 6\n",
        "print(result2)\n",
        "\n",
        "result3 = (6 * 4) + 6\n",
        "print(result3)\n",
        "\n"
      ],
      "metadata": {
        "colab": {
          "base_uri": "https://localhost:8080/"
        },
        "id": "hN-kWFhIwbul",
        "outputId": "bbcd18d8-82e0-48c8-f798-2ead905d5e41"
      },
      "execution_count": null,
      "outputs": [
        {
          "output_type": "stream",
          "name": "stdout",
          "text": [
            "24\n",
            "10\n",
            "30\n"
          ]
        }
      ]
    },
    {
      "cell_type": "code",
      "source": [
        "# minutes to hours converter\n",
        "minutes = 60\n",
        "hours = minutes / 60\n",
        "hours\n"
      ],
      "metadata": {
        "colab": {
          "base_uri": "https://localhost:8080/"
        },
        "id": "ffO35LQuxDl2",
        "outputId": "93bf8ea7-37c8-4d74-a765-a764df34ed44"
      },
      "execution_count": null,
      "outputs": [
        {
          "output_type": "execute_result",
          "data": {
            "text/plain": [
              "1.0"
            ]
          },
          "metadata": {},
          "execution_count": 11
        }
      ]
    },
    {
      "cell_type": "markdown",
      "source": [
        "## Objectives\n",
        "- Learn the basics of markdown and code cells in the notebook  \n",
        "- Lean data science languages  \n",
        "- Learn data science libraries  \n",
        "- Create a table of Data Science tools  \n",
        "- Perform arithmetic using Python  \n",
        "- Practice sharing notebooks  \n",
        "\n"
      ],
      "metadata": {
        "id": "wMETwvTUxZG4"
      }
    },
    {
      "cell_type": "markdown",
      "source": [
        "##**Author:** Sarim Nadeem\n"
      ],
      "metadata": {
        "id": "-BbwO1C1xbjj"
      }
    }
  ]
}